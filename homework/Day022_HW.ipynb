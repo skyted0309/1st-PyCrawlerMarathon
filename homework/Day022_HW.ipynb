{
 "cells": [
  {
   "cell_type": "markdown",
   "metadata": {},
   "source": [
    "# 空氣污染監測網 網路爬蟲實作練習\n",
    "\n",
    "\n",
    "* 能夠利用 selenium + BeautifulSoup 撰寫爬蟲，並存放到合適的資料結構\n"
   ]
  },
  {
   "cell_type": "markdown",
   "metadata": {},
   "source": [
    "## 作業目標\n",
    "\n",
    "根據範例 ，完成以下問題：\n",
    "\n",
    "* ① 取出 台北市士林區 2018/01 – 2018/08 的 SO2 資料\n",
    "* ② 取出 台北市士林區 2018/01 – 2018/08 的 SO2、CO 資料\n",
    "\n",
    "\n",
    "\n"
   ]
  },
  {
   "cell_type": "markdown",
   "metadata": {},
   "source": [
    "### ① 取出 台北市士林區 2018/01 – 2018/08 的 SO2 資料"
   ]
  },
  {
   "cell_type": "code",
   "execution_count": 2,
   "metadata": {},
   "outputs": [
    {
     "name": "stdout",
     "output_type": "stream",
     "text": [
      "None\n"
     ]
    }
   ],
   "source": [
    "# 打開瀏覽器\n",
    "\n",
    "from selenium import webdriver\n",
    "from selenium.webdriver.support.ui import Select\n",
    "from bs4 import BeautifulSoup\n",
    "\n",
    "browser = webdriver.Chrome(executable_path='chromedriver')\n",
    "\n",
    "browser.get(\"http://taqm.epa.gov.tw/taqm/tw/MonthlyAverage.aspx\")\n",
    "\n",
    "selectSite = Select(browser.find_element_by_id(\"ctl05_ddlSite\"))\n",
    "selectSite.select_by_value('11')\n",
    "selectYear = Select(browser.find_element_by_id(\"ctl05_ddlYear\"))\n",
    "selectYear.select_by_value('2018')\n",
    "\n",
    "browser.find_element_by_id('ctl05_btnQuery').click()\n",
    "\n"
   ]
  },
  {
   "cell_type": "code",
   "execution_count": 9,
   "metadata": {},
   "outputs": [
    {
     "name": "stdout",
     "output_type": "stream",
     "text": [
      "{'SO2': {'2018/01': '1.80', '2018/02': '1.90', '2018/03': '2.20', '2018/04': '2.30', '2018/05': '3.10', '2018/06': '2.70', '2018/07': '2.20', '2018/08': '2.40', '2018/09': '2.10', '2018/10': '1.70', '2018/11': '1.90', '2018/12': '1.80'}, 'CO': {'2018/01': '0.34', '2018/02': '0.44', '2018/03': '0.40', '2018/04': '0.38', '2018/05': '0.34', '2018/06': '0.29', '2018/07': '0.21', '2018/08': '0.30', '2018/09': '0.26', '2018/10': '0.29', '2018/11': '0.30', '2018/12': '0.35'}, 'O3': {'2018/01': '33.40', '2018/02': '32.50', '2018/03': '35', '2018/04': '38.40', '2018/05': '31.60', '2018/06': '29.50', '2018/07': '18.70', '2018/08': '26.40', '2018/09': '29.10', '2018/10': '45.90', '2018/11': '32.40', '2018/12': '30.70'}, 'PM10': {'2018/01': '23', '2018/02': '41', '2018/03': '39', '2018/04': '48', '2018/05': '37', '2018/06': '26', '2018/07': '24', '2018/08': '26', '2018/09': '28', '2018/10': '33', '2018/11': '25', '2018/12': '21'}, 'NOx': {'2018/01': '14.17', '2018/02': '19.43', '2018/03': '18.50', '2018/04': '15.24', '2018/05': '15.20', '2018/06': '13.79', '2018/07': '11.60', '2018/08': '14.75', '2018/09': '12.40', '2018/10': '12.45', '2018/11': '13.41', '2018/12': '14.56'}, 'NO': {'2018/01': '3.41', '2018/02': '4.48', '2018/03': '4.93', '2018/04': '2.60', '2018/05': '2.26', '2018/06': '2.41', '2018/07': '2.68', '2018/08': '2.68', '2018/09': '2.41', '2018/10': '2.13', '2018/11': '2.71', '2018/12': '3.42'}, 'NO2': {'2018/01': '10.77', '2018/02': '14.95', '2018/03': '13.56', '2018/04': '12.64', '2018/05': '12.94', '2018/06': '11.38', '2018/07': '8.92', '2018/08': '12.08', '2018/09': '10', '2018/10': '10.33', '2018/11': '10.71', '2018/12': '11.15'}, 'THC': {'2018/12': '無此測項'}, 'NMHC': {'2018/12': '無此測項'}}\n"
     ]
    }
   ],
   "source": [
    "airdicts={}\n",
    "html_source = browser.page_source\n",
    "\n",
    "soup = BeautifulSoup(html_source, 'html.parser')\n",
    "table = soup.find('table', class_='TABLE_G')\n",
    "for item in table.findAll('td'):\n",
    "    if 'class' in item.attrs and 'style' in item.attrs:\n",
    "        title=item.text\n",
    "        airdicts[title]={}\n",
    "    elif 'class' not in item.attrs:\n",
    "        if item.text.strip() !='':\n",
    "            if '/' in item.text:\n",
    "                date=item.text\n",
    "                airdicts[title][date]={}\n",
    "            else:\n",
    "                value=item.text\n",
    "                airdicts[title][date]=value\n",
    "print(airdicts)\n",
    "                \n",
    "        "
   ]
  },
  {
   "cell_type": "code",
   "execution_count": 22,
   "metadata": {},
   "outputs": [
    {
     "name": "stdout",
     "output_type": "stream",
     "text": [
      "SO2 2018/01 1.80\n",
      "SO2 2018/02 1.90\n",
      "SO2 2018/03 2.20\n",
      "SO2 2018/04 2.30\n",
      "SO2 2018/05 3.10\n",
      "SO2 2018/06 2.70\n",
      "SO2 2018/07 2.20\n",
      "SO2 2018/08 2.40\n"
     ]
    }
   ],
   "source": [
    "valueDicts=airdicts['SO2']\n",
    "for k,v in valueDicts.items():\n",
    "    if '2018/08' in k:\n",
    "        print('SO2',k,v)\n",
    "        break\n",
    "    else:\n",
    "        print('SO2',k,v)"
   ]
  },
  {
   "cell_type": "markdown",
   "metadata": {},
   "source": [
    "### ② 取出 台北市士林區 2018/01 – 2018/08 的 SO2、CO 資料"
   ]
  },
  {
   "cell_type": "code",
   "execution_count": 25,
   "metadata": {},
   "outputs": [
    {
     "name": "stdout",
     "output_type": "stream",
     "text": [
      "SO2 2018/01 1.80\n",
      "SO2 2018/02 1.90\n",
      "SO2 2018/03 2.20\n",
      "SO2 2018/04 2.30\n",
      "SO2 2018/05 3.10\n",
      "SO2 2018/06 2.70\n",
      "SO2 2018/07 2.20\n",
      "SO2 2018/08 2.40\n",
      "--------------------------------------------------\n",
      "CO 2018/01 0.34\n",
      "CO 2018/02 0.44\n",
      "CO 2018/03 0.40\n",
      "CO 2018/04 0.38\n",
      "CO 2018/05 0.34\n",
      "CO 2018/06 0.29\n",
      "CO 2018/07 0.21\n",
      "CO 2018/08 0.30\n"
     ]
    }
   ],
   "source": [
    "valueDicts=airdicts['SO2']\n",
    "for k,v in valueDicts.items():\n",
    "    if '2018/08' in k:\n",
    "        print('SO2',k,v)\n",
    "        break\n",
    "    else:\n",
    "        print('SO2',k,v)\n",
    "print('-'*50)\n",
    "\n",
    "valueDicts2=airdicts['CO']\n",
    "for k,v in valueDicts2.items():\n",
    "    if '2018/08' in k:\n",
    "        print('CO',k,v)\n",
    "        break\n",
    "    else:\n",
    "        print('CO',k,v)\n"
   ]
  },
  {
   "cell_type": "code",
   "execution_count": null,
   "metadata": {},
   "outputs": [],
   "source": []
  }
 ],
 "metadata": {
  "kernelspec": {
   "display_name": "Python 3",
   "language": "python",
   "name": "python3"
  },
  "language_info": {
   "codemirror_mode": {
    "name": "ipython",
    "version": 3
   },
   "file_extension": ".py",
   "mimetype": "text/x-python",
   "name": "python",
   "nbconvert_exporter": "python",
   "pygments_lexer": "ipython3",
   "version": "3.7.1"
  }
 },
 "nbformat": 4,
 "nbformat_minor": 2
}
